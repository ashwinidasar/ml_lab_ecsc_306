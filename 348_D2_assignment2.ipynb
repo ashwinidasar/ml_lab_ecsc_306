{
 "cells": [
  {
   "cell_type": "markdown",
   "metadata": {
    "slideshow": {
     "slide_type": "slide"
    }
   },
   "source": [
    "Write a program using tensorflow to calculate : \n",
    "    $$y=mx+c$$"
   ]
  },
  {
   "cell_type": "markdown",
   "metadata": {
    "slideshow": {
     "slide_type": "slide"
    }
   },
   "source": [
    "### Part 1\n",
    "\n",
    "1. Read 2 arrays x,y containing floating point values\n",
    "2. Calculate mean of x & y\n",
    "3. Calculate variance for x\n",
    "    $$variance(x)=sum((x-mean(x))^2)$$\n",
    "4. Calculate covariance of x & y\n",
    "    $$covariance = sum((x(i) - mean(x)) * (y(i) - mean(y)))$$\n",
    "5. Calculate value of m\n",
    "    $$m = covariance(x,y)/variance(x)$$\n",
    "6. Calculate value of c\n",
    "    $$c = mean(y) -m* mean(x)$$\n",
    "    "
   ]
  },
  {
   "cell_type": "markdown",
   "metadata": {
    "slideshow": {
     "slide_type": "slide"
    }
   },
   "source": [
    "### Part 2\n",
    "\n",
    "1. Plot graph for actual values against predicted value\n",
    "2. Calculate root mean square error."
   ]
  },
  {
   "cell_type": "code",
   "execution_count": 1,
   "metadata": {},
   "outputs": [
    {
     "name": "stdout",
     "output_type": "stream",
     "text": [
      "2.14815\n",
      "2.96296\n",
      "6.14403\n",
      "32.9835\n",
      "20.2798\n",
      "3.30074\n",
      "-4.12751\n"
     ]
    }
   ],
   "source": [
    "## Calculate mean of  X and Y\n",
    "import tensorflow as tf\n",
    "x=tf.constant([4,3,5],dtype=tf.float32)\n",
    "y=tf.constant([8,9,5],dtype=tf.float32)\n",
    "x_mean=0\n",
    "y_mean=0\n",
    "for i in range(0,3):\n",
    "    with tf.name_scope(\"mean_x\"):\n",
    "        x_mean=tf.add(x[i],x_mean)\n",
    "    with tf.name_scope(\"mean_y\"):\n",
    "        y_mean=tf.add(y[i],y_mean)\n",
    "    x_mean=tf.div(x_mean,3)\n",
    "    y_mean=tf.div(y_mean,3)\n",
    "            \n",
    "    \n",
    "    ##variance(x)=sum((x−mean(x))2\n",
    "\n",
    "\n",
    "var_x=0\n",
    "var_y=0\n",
    "for i in range(0,3):\n",
    "     var_x=tf.add(tf.pow(tf.subtract(x[i],x_mean),2),var_x)\n",
    "     var_y=tf.add(tf.pow(tf.subtract(y[i],y_mean),2),var_y)\n",
    "with tf.name_scope(\"variance_X\"):\n",
    "         var_x=tf.div(var_x,2)\n",
    "with tf.name_scope(\"variance_Y\"):\n",
    "         var_y=tf.div(var_y,2)\n",
    "        \n",
    "#covariance=sum((x(i)−mean(x))∗(y(i)−mean(y)))\n",
    "\n",
    "with tf.name_scope(\"Covariance\"):\n",
    "    covar=0\n",
    "    for i in range(0,3):\n",
    "        covar=tf.add(tf.multiply(tf.subtract(x[i],x_mean),tf.subtract(y[i],y_mean)),covar)\n",
    "    \n",
    "#m=covariance(x,y)/variance(x)\n",
    "\n",
    "with tf.name_scope(\"value_of_m\"):\n",
    "    m=tf.div(covar,var_x)\n",
    "   \n",
    "    #c=mean(y)−m∗mean(x)\n",
    "with tf.name_scope(\"value_of_c\"):\n",
    "    c=tf.subtract(y_mean,tf.multiply(m,x_mean))\n",
    "with tf.Session() as sess:\n",
    "    print(sess.run(x_mean))\n",
    "    print(sess.run(y_mean))\n",
    "    print(sess.run(var_x))\n",
    "    print(sess.run(var_y))\n",
    "    print(sess.run(covar))\n",
    "    print(sess.run(m))\n",
    "    print(sess.run(c))\n",
    "    \n",
    "    \n",
    "   "
   ]
  },
  {
   "cell_type": "code",
   "execution_count": null,
   "metadata": {
    "collapsed": true
   },
   "outputs": [],
   "source": []
  },
  {
   "cell_type": "code",
   "execution_count": null,
   "metadata": {
    "collapsed": true
   },
   "outputs": [],
   "source": []
  },
  {
   "cell_type": "code",
   "execution_count": null,
   "metadata": {
    "collapsed": true
   },
   "outputs": [],
   "source": []
  },
  {
   "cell_type": "code",
   "execution_count": null,
   "metadata": {
    "collapsed": true
   },
   "outputs": [],
   "source": []
  },
  {
   "cell_type": "code",
   "execution_count": null,
   "metadata": {
    "collapsed": true
   },
   "outputs": [],
   "source": []
  },
  {
   "cell_type": "code",
   "execution_count": null,
   "metadata": {
    "collapsed": true
   },
   "outputs": [],
   "source": []
  },
  {
   "cell_type": "code",
   "execution_count": null,
   "metadata": {
    "collapsed": true
   },
   "outputs": [],
   "source": []
  },
  {
   "cell_type": "code",
   "execution_count": null,
   "metadata": {
    "collapsed": true
   },
   "outputs": [],
   "source": []
  }
 ],
 "metadata": {
  "celltoolbar": "Slideshow",
  "kernelspec": {
   "display_name": "Python 3",
   "language": "python",
   "name": "python3"
  },
  "language_info": {
   "codemirror_mode": {
    "name": "ipython",
    "version": 3
   },
   "file_extension": ".py",
   "mimetype": "text/x-python",
   "name": "python",
   "nbconvert_exporter": "python",
   "pygments_lexer": "ipython3",
   "version": "3.6.1"
  }
 },
 "nbformat": 4,
 "nbformat_minor": 2
}
