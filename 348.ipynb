{
 "cells": [
  {
   "cell_type": "code",
   "execution_count": 1,
   "metadata": {},
   "outputs": [
    {
     "name": "stdout",
     "output_type": "stream",
     "text": [
      "21.0167\n",
      "24.0\n",
      "[[ 13.28333092  11.98333168   0.48333168 -17.01666832 -15.21666813\n",
      "    6.48333168]]\n",
      "883.428\n"
     ]
    }
   ],
   "source": [
    "import numpy as np\n",
    "import tensorflow as tf\n",
    "a = tf.constant([34.3, 33.0, 21.5, 4.0, 5.8, 27.5], shape=[1,6], name='a')\n",
    "b = tf.constant([43.3, 22.0, 21.5, 5.0, 6.7, 45.5], shape=[1,6], name='b')\n",
    "with tf.name_scope(\"mean_A\"):\n",
    "    mean_a=tf.reduce_mean(a)\n",
    "ses1=tf.Session()\n",
    "print(ses1.run(mean_a))\n",
    "with tf.name_scope(\"mean_B\"):\n",
    "    mean_b=tf.reduce_mean(b)\n",
    "ses2=tf.Session()\n",
    "print(ses2.run(mean_b))\n",
    "with tf.name_scope(\"variance\"):\n",
    "    d=tf.subtract(a,mean_a)\n",
    "sess=tf.Session()\n",
    "print(sess.run(d))\n",
    "\n",
    "e=tf.square(d)\n",
    "variance=tf.reduce_sum(e)\n",
    "sess=tf.Session()\n",
    "print(sess.run(variance))\n"
   ]
  },
  {
   "cell_type": "code",
   "execution_count": 2,
   "metadata": {},
   "outputs": [
    {
     "name": "stdout",
     "output_type": "stream",
     "text": [
      "191.43\n"
     ]
    }
   ],
   "source": [
    "with tf.name_scope(\"covariance\"):\n",
    "    g=tf.subtract(b,mean_b)\n",
    "sess=tf.Session()\n",
    "g=tf.multiply(d,g)\n",
    "cov_xy=tf.reduce_sum(g)\n",
    "cov=tf.divide(cov_xy,5)\n",
    "print(sess.run(cov))"
   ]
  },
  {
   "cell_type": "code",
   "execution_count": 3,
   "metadata": {},
   "outputs": [
    {
     "name": "stdout",
     "output_type": "stream",
     "text": [
      "0.21669\n",
      "19.4459\n"
     ]
    }
   ],
   "source": [
    "with tf.name_scope(\"value_of_m\"):\n",
    "    c=tf.divide(cov,variance)\n",
    "    print(sess.run(c))\n",
    "\n",
    "with tf.name_scope(\"value_of_c\"):\n",
    "    i=tf.multiply(c,mean_a)\n",
    "    k=tf.subtract(mean_b,i)\n",
    "print(sess.run(k))\n",
    "\n",
    "with tf.Session() as sess:\n",
    "    writer = tf.summary.FileWriter(\"/tmp/tboard/output1\", sess.graph)\n",
    "    writer.close()"
   ]
  },
  {
   "cell_type": "code",
   "execution_count": null,
   "metadata": {
    "collapsed": true
   },
   "outputs": [],
   "source": []
  },
  {
   "cell_type": "code",
   "execution_count": null,
   "metadata": {
    "collapsed": true
   },
   "outputs": [],
   "source": []
  }
 ],
 "metadata": {
  "kernelspec": {
   "display_name": "Python 2",
   "language": "python",
   "name": "python2"
  },
  "language_info": {
   "codemirror_mode": {
    "name": "ipython",
    "version": 2
   },
   "file_extension": ".py",
   "mimetype": "text/x-python",
   "name": "python",
   "nbconvert_exporter": "python",
   "pygments_lexer": "ipython2",
   "version": "2.7.13"
  }
 },
 "nbformat": 4,
 "nbformat_minor": 2
}
