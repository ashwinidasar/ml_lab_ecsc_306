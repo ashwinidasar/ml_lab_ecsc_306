{
 "cells": [
  {
   "cell_type": "code",
   "execution_count": 19,
   "metadata": {},
   "outputs": [
    {
     "name": "stdout",
     "output_type": "stream",
     "text": [
      "192\n"
     ]
    }
   ],
   "source": [
    "import tensorflow as tf\n",
    "with tf.name_scope(\"hw\"):\n",
    "    with tf.name_scope(\"square_a\"):\n",
    "                a=4\n",
    "                d=tf.pow(a,4)\n",
    "    with tf.name_scope(\"square_b\"):\n",
    "                b=4\n",
    "                e=tf.pow(b,4)\n",
    "    with tf.name_scope(\"square_b\"):\n",
    "                c=4\n",
    "                f=tf.pow(b,4)\n",
    "    with tf.name_scope(\"multiply\"):\n",
    "                m=tf.multiply(a,b)\n",
    "    with tf.name_scope(\"4ab\"):\n",
    "                n=tf.multiply(m,4)\n",
    "    \n",
    "    with tf.name_scope(\"multiply\"):\n",
    "                s=tf.multiply(b,c)\n",
    "    with tf.name_scope(\"4bc\"):\n",
    "                t=tf.multiply(s,4)\n",
    "            \n",
    "    with tf.name_scope(\"multiply\"):\n",
    "                k=tf.multiply(a,c)\n",
    "    with tf.name_scope(\"4ac\"):\n",
    "                t=tf.multiply(k,4)\n",
    "            \n",
    "    with tf.name_scope(\"result\"):\n",
    "        with tf.name_scope(\"add_1\"):\n",
    "            x=tf.add(d,e)\n",
    "            with tf.name_scope(\"add_2\"):\n",
    "                    y=tf.add(x,f)\n",
    "                    with tf.name_scope(\"add_3\"):\n",
    "                            z=tf.add(y,n)\n",
    "                            with tf.name_scope(\"sub_1\"):\n",
    "                                i=tf.subtract(z,t)\n",
    "                                with tf.name_scope(\"sub_2\"):\n",
    "                                    q=tf.subtract(f,t)\n",
    "                \n",
    "with tf.Session() as sess:\n",
    "    writer = tf.summary.FileWriter(\"/tmp/tboard/output2\",sess.graph)\n",
    "    print(sess.run(q))\n",
    "    writer.close()\n",
    "            \n",
    "            \n",
    "            \n",
    "            \n",
    "   \n",
    "        \n",
    "    "
   ]
  },
  {
   "cell_type": "code",
   "execution_count": null,
   "metadata": {
    "collapsed": true
   },
   "outputs": [],
   "source": []
  }
 ],
 "metadata": {
  "kernelspec": {
   "display_name": "Python 3",
   "language": "python",
   "name": "python3"
  },
  "language_info": {
   "codemirror_mode": {
    "name": "ipython",
    "version": 3
   },
   "file_extension": ".py",
   "mimetype": "text/x-python",
   "name": "python",
   "nbconvert_exporter": "python",
   "pygments_lexer": "ipython3",
   "version": "3.6.1"
  }
 },
 "nbformat": 4,
 "nbformat_minor": 2
}
